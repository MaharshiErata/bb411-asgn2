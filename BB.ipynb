{
  "nbformat": 4,
  "nbformat_minor": 0,
  "metadata": {
    "colab": {
      "provenance": [],
      "gpuType": "T4"
    },
    "kernelspec": {
      "name": "python3",
      "display_name": "Python 3"
    },
    "language_info": {
      "name": "python"
    },
    "accelerator": "GPU"
  },
  "cells": [
    {
      "cell_type": "code",
      "execution_count": 1,
      "metadata": {
        "id": "_k5vEVQg6bLI"
      },
      "outputs": [],
      "source": [
        "import os\n",
        "import pandas as pd\n",
        "genes_folder = \"bb411-asgn2/genes\"\n",
        "localization_sequence = \"SKL\""
      ]
    },
    {
      "cell_type": "code",
      "source": [
        "!git clone https://github.com/MaharshiErata/bb411-asgn2.git"
      ],
      "metadata": {
        "colab": {
          "base_uri": "https://localhost:8080/"
        },
        "id": "BoagVeFR8ZzV",
        "outputId": "6a30dcdc-3622-4aae-81a7-ecdc27554f62"
      },
      "execution_count": 2,
      "outputs": [
        {
          "output_type": "stream",
          "name": "stdout",
          "text": [
            "Cloning into 'bb411-asgn2'...\n",
            "remote: Enumerating objects: 40, done.\u001b[K\n",
            "remote: Counting objects: 100% (40/40), done.\u001b[K\n",
            "remote: Compressing objects: 100% (40/40), done.\u001b[K\n",
            "remote: Total 40 (delta 0), reused 40 (delta 0), pack-reused 0\u001b[K\n",
            "Receiving objects: 100% (40/40), 27.44 KiB | 484.00 KiB/s, done.\n"
          ]
        }
      ]
    },
    {
      "cell_type": "code",
      "source": [
        "def check_localization(gene_name):\n",
        "    gene_file = gene_name.strip() + \".txt\"\n",
        "    gene_file = os.path.join(genes_folder, gene_file)\n",
        "    if os.path.exists(gene_file):\n",
        "        with open(gene_file, 'r') as f:\n",
        "            gene_sequence = f.read()\n",
        "            if localization_sequence in gene_sequence:\n",
        "                return \"YES\"\n",
        "            else:\n",
        "                return \"NO\"\n",
        "    else:\n",
        "        return \"Gene file not found\""
      ],
      "metadata": {
        "id": "qWhZcLsJ6f_3"
      },
      "execution_count": 3,
      "outputs": []
    },
    {
      "cell_type": "code",
      "source": [
        "def main():\n",
        "    with open(\"bb411-asgn2/genes.txt\", \"r\") as gene_names_file:\n",
        "        gene_names = gene_names_file.readlines()\n",
        "    results = []\n",
        "    for gene_name in gene_names:\n",
        "        gene_name = gene_name.strip()\n",
        "        localization_status = check_localization(gene_name)\n",
        "        print(f\"{gene_name} {localization_status}\")"
      ],
      "metadata": {
        "id": "IFylWRWn6in2"
      },
      "execution_count": 4,
      "outputs": []
    },
    {
      "cell_type": "code",
      "source": [
        "if __name__ == \"__main__\":\n",
        "    main()"
      ],
      "metadata": {
        "colab": {
          "base_uri": "https://localhost:8080/"
        },
        "id": "74lphZPn6lJy",
        "outputId": "8245f7f0-33c3-4078-a817-c3974a1430df"
      },
      "execution_count": 5,
      "outputs": [
        {
          "output_type": "stream",
          "name": "stdout",
          "text": [
            "ALDH18A1 YES\n",
            "ALG12 NO\n",
            "ALG9 YES\n",
            "ALMS1 YES\n",
            "AMER1 NO\n",
            "AMMECR1 NO\n",
            "ANK1 YES\n",
            "ANKRD11 YES\n",
            "ANKRD26 YES\n",
            "ANKS3 NO\n",
            "ANKS6 NO\n",
            "ANO2 NO\n",
            "ANOS1 NO\n",
            "BUB3 NO\n",
            "C2CD3 NO\n",
            "CA4 NO\n",
            "CABCOCO1 NO\n",
            "CATIP NO\n",
            "CBY1 NO\n",
            "CC2D2A YES\n",
            "CCDC103 NO\n",
            "CCDC112 NO\n",
            "CCDC13 YES\n",
            "CCDC14 NO\n",
            "CEP83 NO\n",
            "CEP89 YES\n",
            "CEP97 YES\n",
            "CERKL NO\n",
            "CETN1 NO\n",
            "CETN2 NO\n",
            "CETN3 NO\n",
            "CFAP100 NO\n",
            "CFAP126 NO\n",
            "CFAP161 NO\n"
          ]
        }
      ]
    }
  ]
}